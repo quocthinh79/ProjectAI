{
 "cells": [
  {
   "cell_type": "code",
   "execution_count": 15,
   "id": "3868cc72",
   "metadata": {},
   "outputs": [
    {
     "name": "stderr",
     "output_type": "stream",
     "text": [
      "C:\\Users\\THINHP~1\\AppData\\Local\\Temp/ipykernel_6728/3433510623.py:56: VisibleDeprecationWarning: Creating an ndarray from ragged nested sequences (which is a list-or-tuple of lists-or-tuples-or ndarrays with different lengths or shapes) is deprecated. If you meant to do this, you must specify 'dtype=object' when creating the ndarray.\n",
      "  training = np.array(training)\n"
     ]
    }
   ],
   "source": [
    "import numpy as np\n",
    "import tflearn\n",
    "from tensorflow.python.framework import ops\n",
    "import random\n",
    "import json\n",
    "import underthesea as vi\n",
    "import pickle\n",
    "\n",
    "# XỬ LÝ SƠ LƯỢC DỮ LIỆU TRAIN\n",
    "file = open('intents.json', encoding=\"utf8\")\n",
    "with file as json_data:\n",
    "    intents = json.load(json_data) # Gán dữ liệu trong file json vào biến intents\n",
    "\n",
    "# Lấy ra các stop-word trong stop-word.txt\n",
    "text_file = open(\"stop-word.txt\", \"r\", encoding=\"utf8\")\n",
    "lines = text_file.read().splitlines() \n",
    "text_file.close()\n",
    "stop_words = lines\n",
    "\n",
    "words = []\n",
    "classes = []\n",
    "documents = []\n",
    "for intent in intents['intents']:\n",
    "    for pattern in intent['patterns']:\n",
    "        w = vi.word_tokenize(pattern) # Tách câu thành các từ có nghĩa VD: 'mấy', 'thích', 'đánh lộn',...\n",
    "        words.extend(w) # Đưa các từ đã tách vào mảng word\n",
    "        documents.append((w, intent['tag'])) # Đưa các từ đã tách + tag của câu chứa từ đó vào documents\n",
    "        if intent['tag'] not in classes:\n",
    "            classes.append(intent['tag']) # Thêm các tag mới\n",
    "\n",
    "words = [w.lower() for w in words if w not in stop_words] # Loại bỏ stop words, trách gây nhiễu và độ chính xác cao hơn\n",
    "words = sorted(list(set(words))) # Sắp xếp và loại bỏ các từ bị trùng\n",
    "classes = sorted(list(set(classes))) # Sắp xếp và loại bỏ các tag\n",
    "\n",
    "# TẠO DỮ LIỆU TRAIN\n",
    "training = []\n",
    "output = []\n",
    "output_empty = [0] * len(classes) # Tạo output_empty có độ dài bằng độ dài của classes\n",
    "\n",
    "# Vector hóa dữ liệu train\n",
    "for doc in documents:\n",
    "    bag = []\n",
    "    pattern_words = doc[0] # Lấy ra từng câu request trong file train\n",
    "    pattern_words = [word.lower() for word in pattern_words] # Lower tất cả các từ\n",
    "\n",
    "    # Vector hóa từ (One hot vector)\n",
    "    for w in words:\n",
    "         # Từ có xuất hiện trong từ điển được gán là 1 ngay tại vị trí của từ đó và ngược lại\n",
    "        bag.append(1) if w in pattern_words else bag.append(0)\n",
    "\n",
    "    output_row = list(output_empty) # Khởi tạo chiều dài của output_row (Độ dài của output_empty)\n",
    "    output_row[classes.index(doc[1])] = 1 # Tag hiện tại được đánh dấu là 1, các tag còn lại là 0\n",
    "    training.append([bag, output_row]) # Thêm vào vector và vector tag của câu hiện tại\n",
    "    \n",
    "random.shuffle(training) # Xáo trộn dữ liệu train\n",
    "training = np.array(training)\n",
    "\n",
    "train_x = list(training[:,0]) # Các vector của câu\n",
    "train_y = list(training[:,1]) # Các vector của tag\n"
   ]
  },
  {
   "cell_type": "code",
   "execution_count": 55,
   "id": "bf5d2389",
   "metadata": {},
   "outputs": [],
   "source": [
    "# BUILD NEURAL NETWORK\n",
    "ops.reset_default_graph()\n",
    "net1 = tflearn.input_data(shape=[None, len(train_x[0])]) # Khởi tạo lớp đầu vào [INFINITY, len(train_x[0])]\n",
    "net2 = tflearn.fully_connected(net1, 16,bias_init='zeros', bias=False) # Lớp ẩn\n",
    "net5 = tflearn.fully_connected(net2, len(train_y[0]), activation='softmax',bias_init='zeros', bias=False) # Lớp đầu ra\n",
    "net6 = tflearn.regression(net5, optimizer='adam', loss='categorical_crossentropy') # Lớp ước tính hồi quy\n",
    "\n",
    "# Xác định mô hình (Deep Neural Network)\n",
    "model = tflearn.DNN(net6)\n",
    "# Bắt đầu train\n",
    "# model.fit(train_x, train_y, n_epoch=1000, batch_size=32, show_metric=True)\n",
    "# model.save('./data-train/model.tflearn')\n",
    "# pickle.dump( {'words':words, 'classes':classes, 'train_x':train_x, 'train_y':train_y}, open( \"./data-train/training_data\", \"wb\" ) )\n"
   ]
  },
  {
   "cell_type": "code",
   "execution_count": 56,
   "id": "f9a418be",
   "metadata": {},
   "outputs": [],
   "source": [
    "# restore our data structures\n",
    "data = pickle.load( open( \"./data-train/training_data\", \"rb\" ) )\n",
    "words = data['words']\n",
    "classes = data['classes']\n",
    "train_x = data['train_x']\n",
    "train_y = data['train_y']\n",
    "# XỬ LÝ TIỀN DỮ LIỆU ĐẦU VÀO (REQUEST)\n",
    "def clean_up_sentence(sentence):\n",
    "    sentence_words = vi.word_tokenize(sentence)\n",
    "    sentence_words = [word.lower() for word in sentence_words if word not in stop_words]\n",
    "    return sentence_words\n",
    "\n",
    "# Vector hóa dữ liệu đầu vào (Tương tự phía trên)\n",
    "def bow(sentence, words):\n",
    "    sentence_words = clean_up_sentence(sentence)\n",
    "    bag = [0]*len(words)  \n",
    "    for s in sentence_words:\n",
    "        for i,w in enumerate(words):\n",
    "            if w == s: \n",
    "                bag[i] = 1\n",
    "    return(np.array(bag))\n",
    "\n",
    "# model.load('./data-train/model.tflearn')\n",
    "# XỬ LÝ ĐẦU RA\n",
    "ERROR_THRESHOLD = 0.5 # Dropout\n",
    "def response(sentence):\n",
    "    results = model.predict([bow(sentence, words)])[0] # Dự đoán dữ liệu đầu vào\n",
    "    results = [[i,r] for i,r in enumerate(results)]\n",
    "    # print(list(map(lambda x: x[1], results)))\n",
    "#     results.sort(key=lambda x: x[1], reverse=True)[:3]\n",
    "    results = sorted(results, key = lambda x : x[1], reverse = True)[:3]\n",
    "    print(results)\n",
    "#     results.sort(key=lambda x: x[1], reverse=True)\n",
    "    return classes[results[0][0]]"
   ]
  },
  {
   "cell_type": "code",
   "execution_count": 57,
   "id": "82b42a67",
   "metadata": {},
   "outputs": [
    {
     "name": "stdout",
     "output_type": "stream",
     "text": [
      "[[214, 0.0010634004], [460, 0.0010628739], [36, 0.0010625834]]\n",
      "Minh đang chơi Liên Minh\n"
     ]
    }
   ],
   "source": [
    "print(response('bài quốc ca'))"
   ]
  },
  {
   "cell_type": "code",
   "execution_count": 58,
   "id": "574048c5",
   "metadata": {},
   "outputs": [
    {
     "name": "stdout",
     "output_type": "stream",
     "text": [
      "[[214, 0.0010634004], [460, 0.0010628739], [36, 0.0010625834]]\n",
      "Minh đang chơi Liên Minh\n"
     ]
    }
   ],
   "source": [
    "print(response('quốc ca'))"
   ]
  },
  {
   "cell_type": "code",
   "execution_count": 54,
   "id": "73e65222",
   "metadata": {},
   "outputs": [
    {
     "name": "stdout",
     "output_type": "stream",
     "text": [
      "[[739, 0.0010634001], [593, 0.0010633423], [392, 0.0010630562]]\n",
      "mình đang thuê bên chỗ quận 7\n"
     ]
    }
   ],
   "source": [
    "print(response('ca'))"
   ]
  },
  {
   "cell_type": "code",
   "execution_count": 35,
   "id": "a72c4d29",
   "metadata": {},
   "outputs": [
    {
     "name": "stdout",
     "output_type": "stream",
     "text": [
      "[[73, 0.5627853], [566, 0.12995578], [569, 0.081111945]]\n",
      "Có chứ, chạy bộ trên bus RAM hơi bị vui nha\n"
     ]
    }
   ],
   "source": [
    "print(response('mày có biết chơi thể thao không'))"
   ]
  },
  {
   "cell_type": "code",
   "execution_count": 36,
   "id": "0c740aa5",
   "metadata": {},
   "outputs": [
    {
     "name": "stdout",
     "output_type": "stream",
     "text": [
      "[[566, 0.9920006], [569, 0.0053038495], [857, 0.0014486567]]\n",
      "chạy bộ trên bus RAM\n"
     ]
    }
   ],
   "source": [
    "print(response('môn thể thao yêu thích của bạn là gì'))"
   ]
  },
  {
   "cell_type": "code",
   "execution_count": 37,
   "id": "b90f3093",
   "metadata": {},
   "outputs": [
    {
     "name": "stdout",
     "output_type": "stream",
     "text": [
      "[[874, 0.74282604], [57, 0.21816835], [789, 0.010902769]]\n",
      "Đi về nhà\n"
     ]
    }
   ],
   "source": [
    "print(response('tết này có đi chơi không vậy'))"
   ]
  },
  {
   "cell_type": "code",
   "execution_count": 38,
   "id": "ad72b546",
   "metadata": {},
   "outputs": [
    {
     "name": "stdout",
     "output_type": "stream",
     "text": [
      "[[359, 0.22440243], [930, 0.09623891], [145, 0.08935413]]\n",
      "Nhạc chill lofi, accoustic, cover\n"
     ]
    }
   ],
   "source": [
    "print(response('mở youtube hộ t với'))"
   ]
  },
  {
   "cell_type": "code",
   "execution_count": 39,
   "id": "c7ff3d31",
   "metadata": {},
   "outputs": [
    {
     "name": "stdout",
     "output_type": "stream",
     "text": [
      "[[448, 0.25227892], [195, 0.22100902], [323, 0.15461381]]\n",
      "Trí tuệ nhân tạo là một nhánh của kỹ thuật và khoa học dùng để xây dựng những cỗ máy biết suy nghĩ\n"
     ]
    }
   ],
   "source": [
    "print(response('trí tuệ nhân tạo là một lĩnh vực như thế nào'))"
   ]
  },
  {
   "cell_type": "code",
   "execution_count": 40,
   "id": "55780da0",
   "metadata": {},
   "outputs": [
    {
     "name": "stdout",
     "output_type": "stream",
     "text": [
      "[[865, 0.6051045], [841, 0.14649172], [412, 0.04515618]]\n",
      "Ăn RAM\n"
     ]
    }
   ],
   "source": [
    "print(response('siêu máy tính là gì nó có đáng sợ không vậy'))"
   ]
  },
  {
   "cell_type": "code",
   "execution_count": 41,
   "id": "71053e41",
   "metadata": {},
   "outputs": [
    {
     "name": "stdout",
     "output_type": "stream",
     "text": [
      "[[865, 0.36753434], [411, 0.09363508], [341, 0.066556595]]\n",
      "Ăn RAM\n"
     ]
    }
   ],
   "source": [
    "print(response('siêu máy tính là gì'))"
   ]
  },
  {
   "cell_type": "code",
   "execution_count": 42,
   "id": "634f1f34",
   "metadata": {},
   "outputs": [
    {
     "name": "stdout",
     "output_type": "stream",
     "text": [
      "[[865, 0.36753434], [411, 0.09363508], [341, 0.066556595]]\n",
      "Ăn RAM\n"
     ]
    }
   ],
   "source": [
    "print(response('Siêu máy tính là gì'))"
   ]
  },
  {
   "cell_type": "code",
   "execution_count": 43,
   "id": "cfbc5b5b",
   "metadata": {},
   "outputs": [
    {
     "name": "stdout",
     "output_type": "stream",
     "text": [
      "[[146, 0.9993901], [865, 0.00017452742], [832, 9.637888e-05]]\n",
      "Hơi tham vọng nhưng nhà khoa học người Anh Charles Babbage được coi là cha đẻ của máy tính\n"
     ]
    }
   ],
   "source": [
    "print(response('ai là người đã phát minh ra máy tính'))"
   ]
  },
  {
   "cell_type": "code",
   "execution_count": 19,
   "id": "412fbcf4",
   "metadata": {},
   "outputs": [
    {
     "name": "stdout",
     "output_type": "stream",
     "text": [
      "Ăn RAM\n"
     ]
    }
   ],
   "source": [
    "print(response('Siêu máy tính là gì'))"
   ]
  },
  {
   "cell_type": "code",
   "execution_count": 44,
   "id": "b274c032",
   "metadata": {},
   "outputs": [
    {
     "name": "stdout",
     "output_type": "stream",
     "text": [
      "[[857, 0.9846785], [219, 0.0047457856], [197, 0.0029568651]]\n",
      "youtube\n"
     ]
    }
   ],
   "source": [
    "print(response('mở youtube hộ tao với'))"
   ]
  },
  {
   "cell_type": "code",
   "execution_count": 45,
   "id": "043729c4",
   "metadata": {},
   "outputs": [
    {
     "name": "stdout",
     "output_type": "stream",
     "text": [
      "[[359, 0.22440243], [930, 0.09623891], [145, 0.08935413]]\n",
      "Nhạc chill lofi, accoustic, cover\n"
     ]
    }
   ],
   "source": [
    "print(response('mở youtube hộ t với'))"
   ]
  },
  {
   "cell_type": "code",
   "execution_count": null,
   "id": "d2b6748b",
   "metadata": {},
   "outputs": [],
   "source": []
  }
 ],
 "metadata": {
  "kernelspec": {
   "display_name": "Python 3 (ipykernel)",
   "language": "python",
   "name": "python3"
  },
  "language_info": {
   "codemirror_mode": {
    "name": "ipython",
    "version": 3
   },
   "file_extension": ".py",
   "mimetype": "text/x-python",
   "name": "python",
   "nbconvert_exporter": "python",
   "pygments_lexer": "ipython3",
   "version": "3.8.0"
  }
 },
 "nbformat": 4,
 "nbformat_minor": 5
}
